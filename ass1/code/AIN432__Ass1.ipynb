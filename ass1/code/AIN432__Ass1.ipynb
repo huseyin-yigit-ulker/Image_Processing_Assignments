{
 "cells": [
  {
   "cell_type": "code",
   "execution_count": null,
   "metadata": {},
   "outputs": [],
   "source": [
    "import cv2 as cv\n",
    "import numpy as np\n",
    "import pandas as pd\n",
    "import os\n",
    "from sklearn.metrics import mean_squared_error"
   ]
  },
  {
   "cell_type": "code",
   "execution_count": 2,
   "metadata": {},
   "outputs": [],
   "source": [
    "#clean the vertical white space\n",
    "def clear_white_column(img,max_changes,restricted_pixel):\n",
    "    gray=cv.cvtColor(img,cv.COLOR_BGR2GRAY)\n",
    "    delete=[]\n",
    "    for i in restricted_pixel:\n",
    "        a = np.bincount(gray[:,i])\n",
    "        if (sum(a == 0) > max_changes):\n",
    "            delete.append(i)\n",
    "    for j in delete[::-1]:\n",
    "        img=np.delete(img,j,1)\n",
    "    return img"
   ]
  },
  {
   "cell_type": "code",
   "execution_count": 3,
   "metadata": {},
   "outputs": [],
   "source": [
    "#clear horizantal white space \n",
    "def clear_white_edge(img):\n",
    "    a=img.shape[0]\n",
    "    k=10\n",
    "    prob_index_0=[i for i in range(0,k+1)]\n",
    "    prob_index_3=[i for i in range(a-k,a)]\n",
    "    gray=cv.cvtColor(img,cv.COLOR_BGR2GRAY)\n",
    "    upper=[]\n",
    "    lower=[]\n",
    "    for i in prob_index_0:\n",
    "        upper.append(sum(gray[i]>220))\n",
    "    for i in prob_index_3:\n",
    "        lower.append(sum(gray[i]>220))\n",
    "    return len(upper)-upper[::-1].index(img.shape[1]),len(lower)-lower.index(img.shape[1])\n",
    "    "
   ]
  },
  {
   "cell_type": "code",
   "execution_count": 4,
   "metadata": {},
   "outputs": [],
   "source": [
    "#clear  black area horizontaly\n",
    "def clear_black_edge(img):\n",
    "    a=img.shape[0]\n",
    "    k=20\n",
    "    prob_index_0=[i for i in range(0,k+1)]\n",
    "    prob_index_3=[i for i in range(a-k,a)]\n",
    "    gray=cv.cvtColor(img,cv.COLOR_BGR2GRAY)\n",
    "    upper=[]\n",
    "    lower=[]\n",
    "    for i in prob_index_0:\n",
    "        upper.append(sum(gray[i]<35))\n",
    "    for i in prob_index_3:\n",
    "        lower.append(sum(gray[i]<35))\n",
    "    return len(upper)-upper[::-1].index(max(upper)),len(lower)-lower.index(max(lower))\n",
    "    "
   ]
  },
  {
   "cell_type": "code",
   "execution_count": 5,
   "metadata": {},
   "outputs": [],
   "source": [
    "# show the data image\n",
    "def show(data):\n",
    "    for i in data:\n",
    "        cv.imshow(\"img\",i)\n",
    "        cv.waitKey(0)\n",
    "        cv.destroyAllWindows()"
   ]
  },
  {
   "cell_type": "code",
   "execution_count": 6,
   "metadata": {},
   "outputs": [],
   "source": [
    "#take image and return two black point for middle of image\n",
    "def find_black_lines_middle(img):\n",
    "    a=img.shape[0]//3\n",
    "    b=2*a\n",
    "    k=20\n",
    "    prob_index1=[i for i in range(a-k,a+k+1)]\n",
    "    prob_index2=[i for i in range(b-k,b+k+1)]\n",
    "    gray=cv.cvtColor(img,cv.COLOR_BGR2GRAY)\n",
    "    upper=[]\n",
    "    lower=[]\n",
    "    for i in prob_index1:\n",
    "        upper.append(sum(gray[i]<40))\n",
    "    for i in prob_index2:\n",
    "        lower.append(sum(gray[i]<40))\n",
    "    return a+upper.index(max(upper))-k,b+lower.index(max(lower))-k"
   ]
  },
  {
   "cell_type": "code",
   "execution_count": 7,
   "metadata": {},
   "outputs": [],
   "source": [
    "img_name=os.listdir(\"data\")"
   ]
  },
  {
   "cell_type": "code",
   "execution_count": 8,
   "metadata": {},
   "outputs": [],
   "source": [
    "# read image and preprocess\n",
    "data=[]\n",
    "k=15\n",
    "for i in img_name:\n",
    "    img=cv.imread(\"data/\"+i)\n",
    "    row=[i for i in range(k)]\n",
    "    column=[i for i in range(k)]\n",
    "    column1=[i for i in range(img.shape[1]-k,img.shape[1])]\n",
    "    row1=[i for i in range(img.shape[0]-k,img.shape[0])]\n",
    "    row.extend(row1)\n",
    "    column.extend(column1)\n",
    "    img1=clear_white_column(img,70,column)\n",
    "    upper,lower=clear_white_edge(img1)\n",
    "    img1=img1[upper:img1.shape[0]-lower]\n",
    "    upper,lower=clear_black_edge(img1)\n",
    "    img1=img1[upper:img1.shape[0]-lower,]\n",
    "    data.append(img1)"
   ]
  },
  {
   "cell_type": "code",
   "execution_count": 9,
   "metadata": {},
   "outputs": [],
   "source": [
    "# save image in folder\n",
    "def save_img(data,colorspace):\n",
    "    for i in range(len(data)):\n",
    "        cv.imwrite(\"Edited\"+str(i)+colorspace+\".jpg\",data[i])\n",
    "    print(\"Images saved for \"+colorspace+\" space\")\n",
    "    o"
   ]
  },
  {
   "cell_type": "code",
   "execution_count": null,
   "metadata": {},
   "outputs": [],
   "source": [
    "os.chdir(\"edit\")"
   ]
  },
  {
   "cell_type": "code",
   "execution_count": 10,
   "metadata": {},
   "outputs": [],
   "source": [
    "R=[]\n",
    "G=[]\n",
    "B=[]\n",
    "for i in data:\n",
    "    upper,lower=find_black_lines_middle(i)\n",
    "    B.append(i[:upper,:,0])\n",
    "    G.append(i[upper+2:lower,:,1])\n",
    "    R.append(i[lower+2:,:,2])"
   ]
  },
  {
   "cell_type": "code",
   "execution_count": 12,
   "metadata": {},
   "outputs": [
    {
     "name": "stdout",
     "output_type": "stream",
     "text": [
      "Images saved for R space\n",
      "Images saved for G space\n",
      "Images saved for B space\n"
     ]
    }
   ],
   "source": [
    "save_img(R,\"R\")\n",
    "save_img(G,\"G\")\n",
    "save_img(B,\"B\")"
   ]
  },
  {
   "cell_type": "code",
   "execution_count": 13,
   "metadata": {},
   "outputs": [],
   "source": [
    "os.chdir(\"..\")"
   ]
  },
  {
   "cell_type": "code",
   "execution_count": 14,
   "metadata": {},
   "outputs": [],
   "source": [
    "def build_filters():\n",
    "    filters = []\n",
    "    ksize = 30\n",
    "    for theta in np.arange(0, np.pi, np.pi / 16):\n",
    "        kern = cv.getGaborKernel((ksize, ksize), 4.0, theta, 10.0, 0.5, 0.8, ktype=cv.CV_32F)\n",
    "        kern /= 1.5 * kern.sum()\n",
    "        filters.append(kern)\n",
    "    return filters\n",
    "def process(img, filters):\n",
    "    accum = np.zeros_like(img)\n",
    "    for kern in filters:\n",
    "        fimg = cv.filter2D(img, cv.CV_8UC3, kern)\n",
    "        np.maximum(accum, fimg, accum)\n",
    "    return accum"
   ]
  },
  {
   "cell_type": "code",
   "execution_count": 15,
   "metadata": {},
   "outputs": [],
   "source": [
    "def equalization_img2(title, img1, img2):\n",
    "    upper = len(img1) // 3\n",
    "    lower = 2 * upper\n",
    "    middle = len(img1) // 2\n",
    "    result_middle = []\n",
    "    k = 10\n",
    "    for i in range(-k, k + 1):\n",
    "        mse = mean_squared_error(img1[middle], img2[middle + i])\n",
    "        result_middle.append([mse])\n",
    "    index = result_middle.index(min(result_middle))\n",
    "    return index - k"
   ]
  },
  {
   "cell_type": "code",
   "execution_count": 16,
   "metadata": {},
   "outputs": [],
   "source": [
    "def merge_image(img_b, img_g, img_r, r_pass, g_pass, sort):\n",
    "    b_second = img_b.shape[0] // 2\n",
    "    r_second = img_r.shape[0] // 2 + r_pass\n",
    "    g_second = img_g.shape[0] // 2 + g_pass\n",
    "    min_second = min([b_second, g_second, r_second])\n",
    "    b_first = img_b.shape[0] // 2\n",
    "    g_first = img_g.shape[0] // 2 - g_pass\n",
    "    r_first = img_b.shape[0] // 2 - r_pass\n",
    "    min_first = min([b_first, r_first, g_first])\n",
    "    img_b1 = img_b[img_b.shape[0] // 2 - min_first:img_b.shape[0] // 2 + min_second]\n",
    "    img_g1 = img_g[img_g.shape[0] // 2 - min_first:img_g.shape[0] // 2 + min_second]\n",
    "    img_r1 = img_r[img_r.shape[0] // 2 - min_first:img_r.shape[0] // 2 + min_second]\n",
    "    if sort[0] == 0 and sort[1] == 1:\n",
    "        return cv.merge([img_b1, img_r1, img_g1])\n",
    "    elif sort[0] == 0 and sort[1] == 2:\n",
    "        return cv.merge([img_b1, img_r1, img_g1])\n",
    "    elif sort[0] == 1 and sort[1] == 2:\n",
    "        return cv.merge([img_g1, img_r1, img_b1])\n",
    "    elif sort[0] == 1 and sort[1] == 0:\n",
    "        return cv.merge([img_g1, img_b1, img_r1])\n",
    "    elif sort[0] == 2 and sort[1] == 0:\n",
    "        return cv.merge([img_g1, img_r1, img_b1])\n",
    "    elif sort[0] == 2 and sort[1] == 1:\n",
    "        return cv.merge([img_r1, img_g1, img_b1])\n",
    "    else:\n",
    "        print(\"ok\")\n"
   ]
  },
  {
   "cell_type": "code",
   "execution_count": 17,
   "metadata": {},
   "outputs": [],
   "source": [
    "def img_preprocess(img_r,img_b,img_g):\n",
    "    filters = build_filters()\n",
    "    gabor_r = process(img_r, filters)\n",
    "    gabor_g = process(img_g, filters)\n",
    "    gabor_b = process(img_b, filters)\n",
    "    imgs = [img_b, img_g, img_r]\n",
    "    imgs2 = imgs.copy()\n",
    "    imgs.sort(key=lambda x: x.shape[0])\n",
    "    sort = [imgs2.index(element) for element in imgs]\n",
    "    return gabor_b, gabor_g, gabor_r, imgs[0], imgs[1], imgs[2], sort"
   ]
  },
  {
   "cell_type": "code",
   "execution_count": 19,
   "metadata": {},
   "outputs": [],
   "source": [
    "import warnings\n",
    "warnings.filterwarnings('ignore')"
   ]
  },
  {
   "cell_type": "code",
   "execution_count": null,
   "metadata": {},
   "outputs": [],
   "source": [
    "os.chdir(\"result\")"
   ]
  },
  {
   "cell_type": "code",
   "execution_count": 20,
   "metadata": {},
   "outputs": [],
   "source": [
    "merge_img=[]\n",
    "for j in range(29):\n",
    "    gabor_b, gabor_g, gabor_r, img_b, img_g, img_r, sort = img_preprocess(R[j],B[j],G[j])\n",
    "    r_pass = equalization_img2(\"b-r\", gabor_b, gabor_r)\n",
    "    g_pass = equalization_img2(\"b-r\", gabor_b, gabor_g)\n",
    "    img = merge_image(img_b, img_g, img_r, r_pass, g_pass, sort)\n",
    "    merge_img.append(img)\n",
    "    cv.imwrite( str(j) + \".jpg\", img)\n"
   ]
  },
  {
   "cell_type": "code",
   "execution_count": null,
   "metadata": {},
   "outputs": [],
   "source": [
    "os.chdir(\"..\")"
   ]
  },
  {
   "cell_type": "code",
   "execution_count": 32,
   "metadata": {},
   "outputs": [],
   "source": [
    "img=merge_img[0]\n",
    "cv.imshow(\"img\",img)\n",
    "cv.waitKey(0)\n",
    "cv.destroyAllWindows()"
   ]
  },
  {
   "cell_type": "code",
   "execution_count": null,
   "metadata": {},
   "outputs": [],
   "source": [
    "os.chdir(\"result_sharp\")"
   ]
  },
  {
   "cell_type": "code",
   "execution_count": 29,
   "metadata": {},
   "outputs": [],
   "source": [
    "sharp_img=[]\n",
    "for i in merge_img:\n",
    "    kernel = np.array([[0, -1, 0],\n",
    "                   [-1, 5,-1],\n",
    "                   [0, -1, 0]])\n",
    "    image_sharp = cv.filter2D(src=i, ddepth=-1, kernel=kernel)\n",
    "    sharp_img.append(image_sharp)"
   ]
  },
  {
   "cell_type": "code",
   "execution_count": 30,
   "metadata": {},
   "outputs": [
    {
     "name": "stdout",
     "output_type": "stream",
     "text": [
      "Images saved for sharp space\n"
     ]
    }
   ],
   "source": [
    "save_img(sharp_img,\"sharp\")"
   ]
  },
  {
   "cell_type": "code",
   "execution_count": null,
   "metadata": {
    "collapsed": true
   },
   "outputs": [],
   "source": [
    "os.chdir(\"..\")"
   ]
  }
 ],
 "metadata": {
  "kernelspec": {
   "display_name": "Python 3",
   "language": "python",
   "name": "python3"
  },
  "language_info": {
   "codemirror_mode": {
    "name": "ipython",
    "version": 3
   },
   "file_extension": ".py",
   "mimetype": "text/x-python",
   "name": "python",
   "nbconvert_exporter": "python",
   "pygments_lexer": "ipython3",
   "version": "3.9.1"
  }
 },
 "nbformat": 4,
 "nbformat_minor": 4
}
